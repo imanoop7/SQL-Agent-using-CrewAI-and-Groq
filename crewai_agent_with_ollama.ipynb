{
 "cells": [
  {
   "cell_type": "code",
   "execution_count": 3,
   "metadata": {},
   "outputs": [],
   "source": [
    "!pip install -qU  langchain-core\n",
    "!pip install -qU langchain-community\n",
    "!pip install -qU  crewai[tools] \n",
    "!pip install -qU langchain-groq"
   ]
  },
  {
   "cell_type": "code",
   "execution_count": 1,
   "metadata": {},
   "outputs": [
    {
     "name": "stdout",
     "output_type": "stream",
     "text": [
      "Note: you may need to restart the kernel to use updated packages.\n"
     ]
    }
   ],
   "source": [
    "pip install -qU ollama"
   ]
  },
  {
   "cell_type": "code",
   "execution_count": 2,
   "metadata": {},
   "outputs": [],
   "source": [
    "import json\n",
    "import os\n",
    "import sqlite3\n",
    "from dataclasses import asdict, dataclass\n",
    "from datetime import datetime, timezone\n",
    "from pathlib import Path\n",
    "from textwrap import dedent\n",
    "from typing import Any, Dict, List, Tuple, Union\n",
    "\n",
    "import pandas as pd\n",
    "from crewai import Agent, Crew, Process, Task\n",
    "from crewai_tools import tool\n",
    "from langchain.schema import AgentFinish\n",
    "from langchain.schema.output import LLMResult\n",
    "from langchain_community.tools.sql_database.tool import (\n",
    "    InfoSQLDatabaseTool,\n",
    "    ListSQLDatabaseTool,\n",
    "    QuerySQLCheckerTool,\n",
    "    QuerySQLDataBaseTool,\n",
    ")\n",
    "from langchain_community.utilities.sql_database import SQLDatabase\n",
    "from langchain_core.callbacks.base import BaseCallbackHandler\n",
    "from langchain_core.prompts import ChatPromptTemplate\n",
    "\n",
    "from langchain_community.llms import Ollama\n"
   ]
  },
  {
   "cell_type": "code",
   "execution_count": 3,
   "metadata": {},
   "outputs": [
    {
     "data": {
      "text/html": [
       "<div>\n",
       "<style scoped>\n",
       "    .dataframe tbody tr th:only-of-type {\n",
       "        vertical-align: middle;\n",
       "    }\n",
       "\n",
       "    .dataframe tbody tr th {\n",
       "        vertical-align: top;\n",
       "    }\n",
       "\n",
       "    .dataframe thead th {\n",
       "        text-align: right;\n",
       "    }\n",
       "</style>\n",
       "<table border=\"1\" class=\"dataframe\">\n",
       "  <thead>\n",
       "    <tr style=\"text-align: right;\">\n",
       "      <th></th>\n",
       "      <th>work_year</th>\n",
       "      <th>experience_level</th>\n",
       "      <th>employment_type</th>\n",
       "      <th>job_title</th>\n",
       "      <th>salary</th>\n",
       "      <th>salary_currency</th>\n",
       "      <th>salary_in_usd</th>\n",
       "      <th>employee_residence</th>\n",
       "      <th>remote_ratio</th>\n",
       "      <th>company_location</th>\n",
       "      <th>company_size</th>\n",
       "    </tr>\n",
       "  </thead>\n",
       "  <tbody>\n",
       "    <tr>\n",
       "      <th>0</th>\n",
       "      <td>2022</td>\n",
       "      <td>MI</td>\n",
       "      <td>FT</td>\n",
       "      <td>Data Analyst</td>\n",
       "      <td>1125000</td>\n",
       "      <td>INR</td>\n",
       "      <td>14329</td>\n",
       "      <td>IN</td>\n",
       "      <td>100</td>\n",
       "      <td>IN</td>\n",
       "      <td>L</td>\n",
       "    </tr>\n",
       "    <tr>\n",
       "      <th>1</th>\n",
       "      <td>2022</td>\n",
       "      <td>EN</td>\n",
       "      <td>FT</td>\n",
       "      <td>Data Scientist</td>\n",
       "      <td>130000</td>\n",
       "      <td>USD</td>\n",
       "      <td>130000</td>\n",
       "      <td>US</td>\n",
       "      <td>0</td>\n",
       "      <td>US</td>\n",
       "      <td>M</td>\n",
       "    </tr>\n",
       "    <tr>\n",
       "      <th>2</th>\n",
       "      <td>2023</td>\n",
       "      <td>MI</td>\n",
       "      <td>FT</td>\n",
       "      <td>Data Analyst</td>\n",
       "      <td>150000</td>\n",
       "      <td>USD</td>\n",
       "      <td>150000</td>\n",
       "      <td>US</td>\n",
       "      <td>0</td>\n",
       "      <td>US</td>\n",
       "      <td>M</td>\n",
       "    </tr>\n",
       "    <tr>\n",
       "      <th>3</th>\n",
       "      <td>2023</td>\n",
       "      <td>MI</td>\n",
       "      <td>FT</td>\n",
       "      <td>Data Analyst</td>\n",
       "      <td>100000</td>\n",
       "      <td>USD</td>\n",
       "      <td>100000</td>\n",
       "      <td>US</td>\n",
       "      <td>0</td>\n",
       "      <td>US</td>\n",
       "      <td>M</td>\n",
       "    </tr>\n",
       "    <tr>\n",
       "      <th>4</th>\n",
       "      <td>2023</td>\n",
       "      <td>SE</td>\n",
       "      <td>FT</td>\n",
       "      <td>Machine Learning Engineer</td>\n",
       "      <td>261500</td>\n",
       "      <td>USD</td>\n",
       "      <td>261500</td>\n",
       "      <td>US</td>\n",
       "      <td>0</td>\n",
       "      <td>US</td>\n",
       "      <td>L</td>\n",
       "    </tr>\n",
       "  </tbody>\n",
       "</table>\n",
       "</div>"
      ],
      "text/plain": [
       "   work_year experience_level employment_type                  job_title  \\\n",
       "0       2022               MI              FT               Data Analyst   \n",
       "1       2022               EN              FT             Data Scientist   \n",
       "2       2023               MI              FT               Data Analyst   \n",
       "3       2023               MI              FT               Data Analyst   \n",
       "4       2023               SE              FT  Machine Learning Engineer   \n",
       "\n",
       "    salary salary_currency  salary_in_usd employee_residence  remote_ratio  \\\n",
       "0  1125000             INR          14329                 IN           100   \n",
       "1   130000             USD         130000                 US             0   \n",
       "2   150000             USD         150000                 US             0   \n",
       "3   100000             USD         100000                 US             0   \n",
       "4   261500             USD         261500                 US             0   \n",
       "\n",
       "  company_location company_size  \n",
       "0               IN            L  \n",
       "1               US            M  \n",
       "2               US            M  \n",
       "3               US            M  \n",
       "4               US            L  "
      ]
     },
     "execution_count": 3,
     "metadata": {},
     "output_type": "execute_result"
    }
   ],
   "source": [
    "df = pd.read_csv(\"ds_salaries.csv\")\n",
    "df.head()"
   ]
  },
  {
   "cell_type": "code",
   "execution_count": 24,
   "metadata": {},
   "outputs": [],
   "source": [
    "# connection = sqlite3.connect(\"salaries.db\")\n",
    "# df.to_sql(name=\"salaries\", con=connection)"
   ]
  },
  {
   "cell_type": "code",
   "execution_count": 4,
   "metadata": {},
   "outputs": [],
   "source": [
    "@dataclass\n",
    "class Event:\n",
    "    event: str\n",
    "    timestamp: str\n",
    "    text: str\n",
    "\n",
    "\n",
    "def _current_time() -> str:\n",
    "    return datetime.now(timezone.utc).isoformat()\n",
    "\n",
    "\n",
    "class LLMCallbackHandler(BaseCallbackHandler):\n",
    "    def __init__(self, log_path: Path):\n",
    "        self.log_path = log_path\n",
    "\n",
    "    def on_llm_start(\n",
    "        self, serialized: Dict[str, Any], prompts: List[str], **kwargs: Any\n",
    "    ) -> Any:\n",
    "        \"\"\"Run when LLM starts running.\"\"\"\n",
    "        assert len(prompts) == 1\n",
    "        event = Event(event=\"llm_start\", timestamp=_current_time(), text=prompts[0])\n",
    "        with self.log_path.open(\"a\", encoding=\"utf-8\") as file:\n",
    "            file.write(json.dumps(asdict(event)) + \"\\n\")\n",
    "\n",
    "    def on_llm_end(self, response: LLMResult, **kwargs: Any) -> Any:\n",
    "        \"\"\"Run when LLM ends running.\"\"\"\n",
    "        generation = response.generations[-1][-1].message.content\n",
    "        event = Event(event=\"llm_end\", timestamp=_current_time(), text=generation)\n",
    "        with self.log_path.open(\"a\", encoding=\"utf-8\") as file:\n",
    "            file.write(json.dumps(asdict(event)) + \"\\n\")\n"
   ]
  },
  {
   "cell_type": "code",
   "execution_count": 5,
   "metadata": {},
   "outputs": [],
   "source": [
    "llm = Ollama(\n",
    "    model=\"phi3\",\n",
    "    callbacks=[LLMCallbackHandler(Path(\"prompts.jsonl\"))],\n",
    ")"
   ]
  },
  {
   "cell_type": "code",
   "execution_count": 6,
   "metadata": {},
   "outputs": [],
   "source": [
    "db = SQLDatabase.from_uri(\"sqlite:///salaries.db\")"
   ]
  },
  {
   "cell_type": "code",
   "execution_count": 7,
   "metadata": {},
   "outputs": [
    {
     "name": "stdout",
     "output_type": "stream",
     "text": [
      "Using Tool: list_tables\n"
     ]
    },
    {
     "data": {
      "text/plain": [
       "'salaries'"
      ]
     },
     "execution_count": 7,
     "metadata": {},
     "output_type": "execute_result"
    }
   ],
   "source": [
    "@tool(\"list_tables\")\n",
    "def list_tables() -> str:\n",
    "    \"\"\"List the available tables in the database\"\"\"\n",
    "    return ListSQLDatabaseTool(db=db).invoke(\"\")\n",
    "\n",
    "list_tables.run()"
   ]
  },
  {
   "cell_type": "code",
   "execution_count": 8,
   "metadata": {},
   "outputs": [
    {
     "name": "stdout",
     "output_type": "stream",
     "text": [
      "Using Tool: tables_schema\n",
      "\n",
      "CREATE TABLE salaries (\n",
      "\t\"index\" INTEGER, \n",
      "\twork_year INTEGER, \n",
      "\texperience_level TEXT, \n",
      "\temployment_type TEXT, \n",
      "\tjob_title TEXT, \n",
      "\tsalary INTEGER, \n",
      "\tsalary_currency TEXT, \n",
      "\tsalary_in_usd INTEGER, \n",
      "\temployee_residence TEXT, \n",
      "\tremote_ratio INTEGER, \n",
      "\tcompany_location TEXT, \n",
      "\tcompany_size TEXT\n",
      ")\n",
      "\n",
      "/*\n",
      "3 rows from salaries table:\n",
      "index\twork_year\texperience_level\temployment_type\tjob_title\tsalary\tsalary_currency\tsalary_in_usd\temployee_residence\tremote_ratio\tcompany_location\tcompany_size\n",
      "0\t2022\tMI\tFT\tData Analyst\t1125000\tINR\t14329\tIN\t100\tIN\tL\n",
      "1\t2022\tEN\tFT\tData Scientist\t130000\tUSD\t130000\tUS\t0\tUS\tM\n",
      "2\t2023\tMI\tFT\tData Analyst\t150000\tUSD\t150000\tUS\t0\tUS\tM\n",
      "*/\n"
     ]
    }
   ],
   "source": [
    "@tool(\"tables_schema\")\n",
    "def tables_schema(tables: str) -> str:\n",
    "    \"\"\"\n",
    "    Input is a comma-separated list of tables, output is the schema and sample rows\n",
    "    for those tables. Be sure that the tables actually exist by calling `list_tables` first!\n",
    "    Example Input: table1, table2, table3\n",
    "    \"\"\"\n",
    "    tool = InfoSQLDatabaseTool(db=db)\n",
    "    return tool.invoke(tables)\n",
    "\n",
    "print(tables_schema.run(\"salaries\"))"
   ]
  },
  {
   "cell_type": "code",
   "execution_count": 9,
   "metadata": {},
   "outputs": [
    {
     "name": "stdout",
     "output_type": "stream",
     "text": [
      "Using Tool: execute_sql\n"
     ]
    },
    {
     "data": {
      "text/plain": [
       "\"[(0, 2022, 'MI', 'FT', 'Data Analyst', 1125000, 'INR', 14329, 'IN', 100, 'IN', 'L'), (1, 2022, 'EN', 'FT', 'Data Scientist', 130000, 'USD', 130000, 'US', 0, 'US', 'M'), (2, 2023, 'MI', 'FT', 'Data Analyst', 150000, 'USD', 150000, 'US', 0, 'US', 'M'), (3, 2023, 'MI', 'FT', 'Data Analyst', 100000, 'USD', 100000, 'US', 0, 'US', 'M'), (4, 2023, 'SE', 'FT', 'Machine Learning Engineer', 261500, 'USD', 261500, 'US', 0, 'US', 'L')]\""
      ]
     },
     "execution_count": 9,
     "metadata": {},
     "output_type": "execute_result"
    }
   ],
   "source": [
    "@tool(\"execute_sql\")\n",
    "def execute_sql(sql_query: str) -> str:\n",
    "    \"\"\"Execute a SQL query against the database. Returns the result\"\"\"\n",
    "    return QuerySQLDataBaseTool(db=db).invoke(sql_query)\n",
    "\n",
    "execute_sql.run(\"SELECT * FROM salaries WHERE salary > 10000 LIMIT 5\")"
   ]
  },
  {
   "cell_type": "code",
   "execution_count": 10,
   "metadata": {},
   "outputs": [
    {
     "name": "stdout",
     "output_type": "stream",
     "text": [
      "Using Tool: check_sql\n"
     ]
    }
   ],
   "source": [
    "@tool(\"check_sql\")\n",
    "def check_sql(sql_query: str) -> str:\n",
    "    \"\"\"\n",
    "    Use this tool to double check if your query is correct before executing it. Always use this\n",
    "    tool before executing a query with `execute_sql`.\n",
    "    \"\"\"\n",
    "    return QuerySQLCheckerTool(db=db, llm=llm).invoke({\"query\": sql_query})\n",
    "\n",
    "check_sql.run(\"SELECT * WHERE salary > 10000 LIMIT 5 table = salaries\")"
   ]
  },
  {
   "cell_type": "code",
   "execution_count": null,
   "metadata": {},
   "outputs": [],
   "source": [
    "sql_dev = Agent(\n",
    "    role=\"Senior Database Developer\",\n",
    "    goal=\"Construct and execute SQL queries based on a request\",\n",
    "    backstory=dedent(\n",
    "        \"\"\"\n",
    "        You are an experienced database engineer who is master at creating efficient and complex SQL queries.\n",
    "        You have a deep understanding of how different databases work and how to optimize queries.\n",
    "        Use the `list_tables` to find available tables.\n",
    "        Use the `tables_schema` to understand the metadata for the tables.\n",
    "        Use the `execute_sql` to check your queries for correctness.\n",
    "        Use the `check_sql` to execute queries against the database.\n",
    "    \"\"\"\n",
    "    ),\n",
    "    llm=llm,\n",
    "    tools=[list_tables, tables_schema, execute_sql, check_sql],\n",
    "    allow_delegation=False,\n",
    ")"
   ]
  },
  {
   "cell_type": "code",
   "execution_count": 33,
   "metadata": {},
   "outputs": [],
   "source": [
    "data_analyst = Agent(\n",
    "    role=\"Senior Data Analyst\",\n",
    "    goal=\"You receive data from the database developer and analyze it\",\n",
    "    backstory=dedent(\n",
    "        \"\"\"\n",
    "        You have deep experience with analyzing datasets using Python.\n",
    "        Your work is always based on the provided data and is clear,\n",
    "        easy-to-understand and to the point. You have attention\n",
    "        to detail and always produce very detailed work (as long as you need).\n",
    "    \"\"\"\n",
    "    ),\n",
    "    llm=llm,\n",
    "    allow_delegation=False,\n",
    ")"
   ]
  },
  {
   "cell_type": "code",
   "execution_count": 34,
   "metadata": {},
   "outputs": [],
   "source": [
    "report_writer = Agent(\n",
    "    role=\"Senior Report Editor\",\n",
    "    goal=\"Write an executive summary type of report based on the work of the analyst\",\n",
    "    backstory=dedent(\n",
    "        \"\"\"\n",
    "        Your writing still is well known for clear and effective communication.\n",
    "        You always summarize long texts into bullet points that contain the most\n",
    "        important details.\n",
    "        \"\"\"\n",
    "    ),\n",
    "    llm=llm,\n",
    "    allow_delegation=False,\n",
    ")"
   ]
  },
  {
   "cell_type": "code",
   "execution_count": 35,
   "metadata": {},
   "outputs": [],
   "source": [
    "extract_data = Task(\n",
    "    description=\"Extract data that is required for the query {query}.\",\n",
    "    expected_output=\"Database result for the query\",\n",
    "    agent=sql_dev,\n",
    ")"
   ]
  },
  {
   "cell_type": "code",
   "execution_count": 36,
   "metadata": {},
   "outputs": [],
   "source": [
    "analyze_data = Task(\n",
    "    description=\"Analyze the data from the database and write an analysis for {query}.\",\n",
    "    expected_output=\"Detailed analysis text\",\n",
    "    agent=data_analyst,\n",
    "    context=[extract_data],\n",
    ")"
   ]
  },
  {
   "cell_type": "code",
   "execution_count": 37,
   "metadata": {},
   "outputs": [],
   "source": [
    "write_report = Task(\n",
    "    description=dedent(\n",
    "        \"\"\"\n",
    "        Write an executive summary of the report from the analysis. The report\n",
    "        must be less than 100 words.\n",
    "    \"\"\"\n",
    "    ),\n",
    "    expected_output=\"Markdown report\",\n",
    "    agent=report_writer,\n",
    "    context=[analyze_data],\n",
    ")"
   ]
  },
  {
   "cell_type": "code",
   "execution_count": 38,
   "metadata": {},
   "outputs": [
    {
     "name": "stderr",
     "output_type": "stream",
     "text": [
      "2024-07-15 08:27:27,379 - 6540 - __init__.py-__init__:518 - WARNING: Overriding of current TracerProvider is not allowed\n"
     ]
    }
   ],
   "source": [
    "crew = Crew(\n",
    "    agents=[sql_dev, data_analyst, report_writer],\n",
    "    tasks=[extract_data, analyze_data, write_report],\n",
    "    process=Process.sequential,\n",
    "    verbose=2,\n",
    "    memory=False,\n",
    "    output_log_file=\"crew.log\",\n",
    ")"
   ]
  },
  {
   "cell_type": "code",
   "execution_count": 46,
   "metadata": {},
   "outputs": [
    {
     "name": "stdout",
     "output_type": "stream",
     "text": [
      "\u001b[1m\u001b[95m [2024-07-15 08:32:28][DEBUG]: == Working Agent: Senior Database Developer\u001b[00m\n",
      "\u001b[1m\u001b[95m [2024-07-15 08:32:28][INFO]: == Starting Task: Extract data that is required for the query Average salary for Data Analyst role..\u001b[00m\n",
      "\u001b[95m \n",
      "\n",
      "salaries\n",
      "\u001b[00m\n",
      "\u001b[95m \n",
      "\n",
      "\n",
      "CREATE TABLE salaries (\n",
      "\t\"index\" INTEGER, \n",
      "\twork_year INTEGER, \n",
      "\texperience_level TEXT, \n",
      "\temployment_type TEXT, \n",
      "\tjob_title TEXT, \n",
      "\tsalary INTEGER, \n",
      "\tsalary_currency TEXT, \n",
      "\tsalary_in_usd INTEGER, \n",
      "\temployee_residence TEXT, \n",
      "\tremote_ratio INTEGER, \n",
      "\tcompany_location TEXT, \n",
      "\tcompany_size TEXT\n",
      ")\n",
      "\n",
      "/*\n",
      "3 rows from salaries table:\n",
      "index\twork_year\texperience_level\temployment_type\tjob_title\tsalary\tsalary_currency\tsalary_in_usd\temployee_residence\tremote_ratio\tcompany_location\tcompany_size\n",
      "0\t2022\tMI\tFT\tData Analyst\t1125000\tINR\t14329\tIN\t100\tIN\tL\n",
      "1\t2022\tEN\tFT\tData Scientist\t130000\tUSD\t130000\tUS\t0\tUS\tM\n",
      "2\t2023\tMI\tFT\tData Analyst\t150000\tUSD\t150000\tUS\t0\tUS\tM\n",
      "*/\n",
      "\u001b[00m\n",
      "\u001b[95m \n",
      "\n",
      "SELECT AVG(salary_in_usd) FROM salaries WHERE job_title = 'Data Analyst'\n",
      "\u001b[00m\n",
      "\u001b[95m \n",
      "\n",
      "[(103925.46229508196,)]\n",
      "\u001b[00m\n",
      "\u001b[1m\u001b[92m [2024-07-15 08:32:35][DEBUG]: == [Senior Database Developer] Task output: [(103925.46229508196,)]\n",
      "\n",
      "\u001b[00m\n",
      "\u001b[1m\u001b[95m [2024-07-15 08:32:35][DEBUG]: == Working Agent: Senior Data Analyst\u001b[00m\n",
      "\u001b[1m\u001b[95m [2024-07-15 08:32:35][INFO]: == Starting Task: Analyze the data from the database and write an analysis for Average salary for Data Analyst role..\u001b[00m\n",
      "\u001b[1m\u001b[92m [2024-07-15 08:32:38][DEBUG]: == [Senior Data Analyst] Task output: The analysis of the provided data reveals that the average salary for a Data Analyst role is $103,925.46. This figure is based on a single data point, which suggests that this is the average salary for this role in the given dataset.\n",
      "\n",
      "The data is presented in a clean and concise format, making it easy to interpret and analyze. The average salary is a key metric that can be used to understand the compensation landscape for Data Analysts.\n",
      "\n",
      "In this case, the average salary is quite high, indicating that Data Analysts are well-compensated professionals. This could be due to the high demand for data analysis skills in the job market, as well as the importance of data-driven decision-making in many industries.\n",
      "\n",
      "Overall, this analysis provides a clear and concise answer to the question of what the average salary is for a Data Analyst role, based on the provided data.\n",
      "\n",
      "\u001b[00m\n",
      "\u001b[1m\u001b[95m [2024-07-15 08:32:38][DEBUG]: == Working Agent: Senior Report Editor\u001b[00m\n",
      "\u001b[1m\u001b[95m [2024-07-15 08:32:38][INFO]: == Starting Task: \n",
      "Write an executive summary of the report from the analysis. The report\n",
      "must be less than 100 words.\n",
      "\u001b[00m\n",
      "\u001b[1m\u001b[92m [2024-07-15 08:32:40][DEBUG]: == [Senior Report Editor] Task output: ### Executive Summary\n",
      "The analysis of the provided data reveals that the average salary for a Data Analyst role is $103,925.46. This figure is based on a single data point, indicating that Data Analysts are well-compensated professionals. The high average salary may be due to the high demand for data analysis skills and the importance of data-driven decision-making in many industries. This analysis provides a clear and concise answer to the question of what the average salary is for a Data Analyst role, based on the provided data.\n",
      "\n",
      "\u001b[00m\n"
     ]
    }
   ],
   "source": [
    "inputs = {\n",
    "    \"query\": \"Average salary for Data Analyst role.\"\n",
    "}\n",
    "\n",
    "result = crew.kickoff(inputs=inputs)"
   ]
  },
  {
   "cell_type": "code",
   "execution_count": 47,
   "metadata": {},
   "outputs": [
    {
     "name": "stdout",
     "output_type": "stream",
     "text": [
      "### Executive Summary\n",
      "The analysis of the provided data reveals that the average salary for a Data Analyst role is $103,925.46. This figure is based on a single data point, indicating that Data Analysts are well-compensated professionals. The high average salary may be due to the high demand for data analysis skills and the importance of data-driven decision-making in many industries. This analysis provides a clear and concise answer to the question of what the average salary is for a Data Analyst role, based on the provided data.\n"
     ]
    }
   ],
   "source": [
    "print(result)"
   ]
  },
  {
   "cell_type": "code",
   "execution_count": 48,
   "metadata": {},
   "outputs": [
    {
     "name": "stdout",
     "output_type": "stream",
     "text": [
      "\u001b[1m\u001b[95m [2024-07-15 08:32:40][DEBUG]: == Working Agent: Senior Database Developer\u001b[00m\n",
      "\u001b[1m\u001b[95m [2024-07-15 08:32:40][INFO]: == Starting Task: Extract data that is required for the query How is the `Machine Learning Engineer` salary in USD is affected by remote positions.\u001b[00m\n",
      "\u001b[95m \n",
      "\n",
      "salaries\n",
      "\u001b[00m\n",
      "\u001b[95m \n",
      "\n",
      "\n",
      "CREATE TABLE salaries (\n",
      "\t\"index\" INTEGER, \n",
      "\twork_year INTEGER, \n",
      "\texperience_level TEXT, \n",
      "\temployment_type TEXT, \n",
      "\tjob_title TEXT, \n",
      "\tsalary INTEGER, \n",
      "\tsalary_currency TEXT, \n",
      "\tsalary_in_usd INTEGER, \n",
      "\temployee_residence TEXT, \n",
      "\tremote_ratio INTEGER, \n",
      "\tcompany_location TEXT, \n",
      "\tcompany_size TEXT\n",
      ")\n",
      "\n",
      "/*\n",
      "3 rows from salaries table:\n",
      "index\twork_year\texperience_level\temployment_type\tjob_title\tsalary\tsalary_currency\tsalary_in_usd\temployee_residence\tremote_ratio\tcompany_location\tcompany_size\n",
      "0\t2022\tMI\tFT\tData Analyst\t1125000\tINR\t14329\tIN\t100\tIN\tL\n",
      "1\t2022\tEN\tFT\tData Scientist\t130000\tUSD\t130000\tUS\t0\tUS\tM\n",
      "2\t2023\tMI\tFT\tData Analyst\t150000\tUSD\t150000\tUS\t0\tUS\tM\n",
      "*/\n",
      "\u001b[00m\n",
      "\u001b[95m \n",
      "\n",
      "The original query looks good, but I'll reproduce it for completeness:\n",
      "\n",
      "```\n",
      "SELECT job_title, AVG(salary_in_usd) as avg_salary, remote_ratio \n",
      "FROM salaries \n",
      "WHERE job_title = 'Machine Learning Engineer' AND salary_currency = 'USD' \n",
      "GROUP BY remote_ratio;\n",
      "```\n",
      "\u001b[00m\n",
      "\u001b[95m \n",
      "\n",
      "[('Machine Learning Engineer', 163587.78260869565, 0), ('Machine Learning Engineer', 125263.42857142857, 50), ('Machine Learning Engineer', 160192.1568627451, 100)]\n",
      "\u001b[00m\n",
      "\u001b[1m\u001b[92m [2024-07-15 08:33:45][DEBUG]: == [Senior Database Developer] Task output: [('Machine Learning Engineer', 163587.78260869565, 0), ('Machine Learning Engineer', 125263.42857142857, 50), ('Machine Learning Engineer', 160192.1568627451, 100)]\n",
      "\n",
      "\u001b[00m\n",
      "\u001b[1m\u001b[95m [2024-07-15 08:33:45][DEBUG]: == Working Agent: Senior Data Analyst\u001b[00m\n",
      "\u001b[1m\u001b[95m [2024-07-15 08:33:45][INFO]: == Starting Task: Analyze the data from the database and write an analysis for How is the `Machine Learning Engineer` salary in USD is affected by remote positions.\u001b[00m\n"
     ]
    }
   ],
   "source": [
    "inputs = {\n",
    "    \"query\": \"How is the `Machine Learning Engineer` salary in USD is affected by remote positions\"\n",
    "}\n",
    "\n",
    "result = crew.kickoff(inputs=inputs)"
   ]
  },
  {
   "cell_type": "code",
   "execution_count": null,
   "metadata": {},
   "outputs": [
    {
     "data": {
      "text/plain": [
       "'**Executive Summary: Impact of Remote Positions on Machine Learning Engineer Salaries**\\n============================================================\\n\\n### Key Findings\\n\\n* Machine Learning Engineers with 0% remote work have an average salary of $163,587.78.\\n* Those with 50% remote work have an average salary of $125,263.43, 23.4% lower than those with no remote work.\\n* Those with 100% remote work have an average salary of $160,192.16, 2.1% lower than those with no remote work.\\n* Remote positions have a negative impact on Machine Learning Engineer salaries, with a more significant impact for those with 50% remote work compared to those with 100% remote work.'"
      ]
     },
     "execution_count": 42,
     "metadata": {},
     "output_type": "execute_result"
    }
   ],
   "source": [
    "print(result)"
   ]
  },
  {
   "cell_type": "code",
   "execution_count": null,
   "metadata": {},
   "outputs": [
    {
     "name": "stdout",
     "output_type": "stream",
     "text": [
      "\u001b[1m\u001b[95m [2024-07-15 08:29:06][DEBUG]: == Working Agent: Senior Database Developer\u001b[00m\n",
      "\u001b[1m\u001b[95m [2024-07-15 08:29:06][INFO]: == Starting Task: Extract data that is required for the query How is the salaray in USD based on employment type and experience level? .\u001b[00m\n",
      "\u001b[95m \n",
      "\n",
      "salaries\n",
      "\u001b[00m\n",
      "\u001b[95m \n",
      "\n",
      "\n",
      "CREATE TABLE salaries (\n",
      "\t\"index\" INTEGER, \n",
      "\twork_year INTEGER, \n",
      "\texperience_level TEXT, \n",
      "\temployment_type TEXT, \n",
      "\tjob_title TEXT, \n",
      "\tsalary INTEGER, \n",
      "\tsalary_currency TEXT, \n",
      "\tsalary_in_usd INTEGER, \n",
      "\temployee_residence TEXT, \n",
      "\tremote_ratio INTEGER, \n",
      "\tcompany_location TEXT, \n",
      "\tcompany_size TEXT\n",
      ")\n",
      "\n",
      "/*\n",
      "3 rows from salaries table:\n",
      "index\twork_year\texperience_level\temployment_type\tjob_title\tsalary\tsalary_currency\tsalary_in_usd\temployee_residence\tremote_ratio\tcompany_location\tcompany_size\n",
      "0\t2022\tMI\tFT\tData Analyst\t1125000\tINR\t14329\tIN\t100\tIN\tL\n",
      "1\t2022\tEN\tFT\tData Scientist\t130000\tUSD\t130000\tUS\t0\tUS\tM\n",
      "2\t2023\tMI\tFT\tData Analyst\t150000\tUSD\t150000\tUS\t0\tUS\tM\n",
      "*/\n",
      "\u001b[00m\n",
      "\u001b[95m \n",
      "\n",
      "SELECT employment_type, experience_level, AVG(salary_in_usd) AS avg_salary_usd FROM salaries GROUP BY employment_type, experience_level\n",
      "\u001b[00m\n",
      "\u001b[95m \n",
      "\n",
      "[('CT', 'EN', 65229.0), ('CT', 'EX', 416000.0), ('CT', 'MI', 112500.0), ('CT', 'SE', 97500.0), ('FL', 'EN', 75000.0), ('FL', 'MI', 41624.8), ('FL', 'SE', 60000.0), ('FT', 'EN', 69541.41242937853), ('FT', 'EX', 185556.49019607843), ('FT', 'MI', 98299.08510638298), ('FT', 'SE', 146191.89016393444), ('PT', 'EN', 42461.36363636364), ('PT', 'MI', 42555.0)]\n",
      "\u001b[00m\n",
      "\u001b[1m\u001b[92m [2024-07-15 08:30:25][DEBUG]: == [Senior Database Developer] Task output: [('CT', 'EN', 65229.0), ('CT', 'EX', 416000.0), ('CT', 'MI', 112500.0), ('CT', 'SE', 97500.0), ('FL', 'EN', 75000.0), ('FL', 'MI', 41624.8), ('FL', 'SE', 60000.0), ('FT', 'EN', 69541.41242937853), ('FT', 'EX', 185556.49019607843), ('FT', 'MI', 98299.08510638298), ('FT', 'SE', 146191.89016393444), ('PT', 'EN', 42461.36363636364), ('PT', 'MI', 42555.0)]\n",
      "\n",
      "\u001b[00m\n",
      "\u001b[1m\u001b[95m [2024-07-15 08:30:25][DEBUG]: == Working Agent: Senior Data Analyst\u001b[00m\n",
      "\u001b[1m\u001b[95m [2024-07-15 08:30:25][INFO]: == Starting Task: Analyze the data from the database and write an analysis for How is the salaray in USD based on employment type and experience level? .\u001b[00m\n",
      "\u001b[1m\u001b[92m [2024-07-15 08:30:37][DEBUG]: == [Senior Data Analyst] Task output: The provided dataset contains information about salaries in USD based on employment type and experience level. The data is categorized into four employment types: CT (Contractor), FL (Full-time), FT (Freelancer), and PT (Part-time), and four experience levels: EN (Entry-level), EX (Executive), MI (Mid-level), and SE (Senior-level).\n",
      "\n",
      "To analyze the salary distribution, I will create a table to summarize the average salary for each employment type and experience level.\n",
      "\n",
      "| Employment Type | Experience Level | Average Salary (USD) |\n",
      "| --- | --- | --- |\n",
      "| CT | EN | 65,229.00 |\n",
      "| CT | EX | 416,000.00 |\n",
      "| CT | MI | 112,500.00 |\n",
      "| CT | SE | 97,500.00 |\n",
      "| FL | EN | 75,000.00 |\n",
      "| FL | MI | 41,624.80 |\n",
      "| FL | SE | 60,000.00 |\n",
      "| FT | EN | 69,541.41 |\n",
      "| FT | EX | 185,556.49 |\n",
      "| FT | MI | 98,299.09 |\n",
      "| FT | SE | 146,191.89 |\n",
      "| PT | EN | 42,461.36 |\n",
      "| PT | MI | 42,555.00 |\n",
      "\n",
      "From the table, we can observe the following trends:\n",
      "\n",
      "* Executive-level employees have the highest average salaries across all employment types, with Freelancers (FT) having the highest average salary at $185,556.49.\n",
      "* Senior-level employees have the second-highest average salaries, with Freelancers (FT) again having the highest average salary at $146,191.89.\n",
      "* Mid-level employees have average salaries ranging from $41,624.80 (Full-time, FL) to $98,299.09 (Freelancer, FT).\n",
      "* Entry-level employees have the lowest average salaries, with Part-time (PT) employees having the lowest average salary at $42,461.36.\n",
      "\n",
      "In terms of employment type, Freelancers (FT) tend to have higher average salaries across all experience levels, followed by Contractors (CT) and Full-time (FL) employees. Part-time (PT) employees have the lowest average salaries across all experience levels.\n",
      "\n",
      "Overall, the analysis suggests that experience level has a significant impact on salary, with Executive-level employees earning significantly more than Entry-level employees. Additionally, Freelancers (FT) tend to have higher average salaries than other employment types.\n",
      "\n",
      "\u001b[00m\n",
      "\u001b[1m\u001b[95m [2024-07-15 08:30:37][DEBUG]: == Working Agent: Senior Report Editor\u001b[00m\n",
      "\u001b[1m\u001b[95m [2024-07-15 08:30:37][INFO]: == Starting Task: \n",
      "Write an executive summary of the report from the analysis. The report\n",
      "must be less than 100 words.\n",
      "\u001b[00m\n",
      "\u001b[1m\u001b[92m [2024-07-15 08:30:57][DEBUG]: == [Senior Report Editor] Task output: **Executive Summary**\n",
      "===============\n",
      "\n",
      "The analysis of the salary dataset reveals that experience level has a significant impact on salary, with Executive-level employees earning significantly more than Entry-level employees. Freelancers (FT) tend to have higher average salaries than other employment types across all experience levels.\n",
      "\n",
      "**Key Findings:**\n",
      "\n",
      "* Executive-level employees have the highest average salaries, with Freelancers (FT) having the highest average salary at $185,556.49.\n",
      "* Senior-level employees have the second-highest average salaries, with Freelancers (FT) again having the highest average salary at $146,191.89.\n",
      "* Freelancers (FT) tend to have higher average salaries across all experience levels, followed by Contractors (CT) and Full-time (FL) employees.\n",
      "* Part-time (PT) employees have the lowest average salaries across all experience levels.\n",
      "\n",
      "\u001b[00m\n"
     ]
    }
   ],
   "source": [
    "inputs = {\n",
    "    \"query\": \"How is the salaray in USD based on employment type and experience level? \"\n",
    "}\n",
    "\n",
    "result = crew.kickoff(inputs=inputs)"
   ]
  },
  {
   "cell_type": "code",
   "execution_count": null,
   "metadata": {},
   "outputs": [
    {
     "name": "stdout",
     "output_type": "stream",
     "text": [
      "**Executive Summary**\n",
      "===============\n",
      "\n",
      "The analysis of the salary dataset reveals that experience level has a significant impact on salary, with Executive-level employees earning significantly more than Entry-level employees. Freelancers (FT) tend to have higher average salaries than other employment types across all experience levels.\n",
      "\n",
      "**Key Findings:**\n",
      "\n",
      "* Executive-level employees have the highest average salaries, with Freelancers (FT) having the highest average salary at $185,556.49.\n",
      "* Senior-level employees have the second-highest average salaries, with Freelancers (FT) again having the highest average salary at $146,191.89.\n",
      "* Freelancers (FT) tend to have higher average salaries across all experience levels, followed by Contractors (CT) and Full-time (FL) employees.\n",
      "* Part-time (PT) employees have the lowest average salaries across all experience levels.\n"
     ]
    }
   ],
   "source": [
    "print(result)"
   ]
  },
  {
   "cell_type": "code",
   "execution_count": null,
   "metadata": {},
   "outputs": [],
   "source": []
  }
 ],
 "metadata": {
  "kernelspec": {
   "display_name": ".venv",
   "language": "python",
   "name": "python3"
  },
  "language_info": {
   "codemirror_mode": {
    "name": "ipython",
    "version": 3
   },
   "file_extension": ".py",
   "mimetype": "text/x-python",
   "name": "python",
   "nbconvert_exporter": "python",
   "pygments_lexer": "ipython3",
   "version": "3.12.3"
  }
 },
 "nbformat": 4,
 "nbformat_minor": 2
}
