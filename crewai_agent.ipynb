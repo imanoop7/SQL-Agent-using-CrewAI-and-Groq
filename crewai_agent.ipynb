{
 "cells": [
  {
   "cell_type": "code",
   "execution_count": null,
   "metadata": {},
   "outputs": [],
   "source": [
    "!pip install -qU  langchain-core==0.2.9\n",
    "!pip install -qU langchain-community==0.2.5\n",
    "!pip install -qU  'crewai[tools]'==0.32.0\n",
    "!pip install -qU langchain-groq==0.1.5"
   ]
  }
 ],
 "metadata": {
  "language_info": {
   "name": "python"
  }
 },
 "nbformat": 4,
 "nbformat_minor": 2
}
